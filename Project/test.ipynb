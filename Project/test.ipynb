{
 "cells": [
  {
   "cell_type": "markdown",
   "metadata": {},
   "source": [
    "# Import libraries"
   ]
  },
  {
   "cell_type": "code",
   "execution_count": null,
   "metadata": {},
   "outputs": [],
   "source": [
    "# Core Libraries\n",
    "from datasets import load_dataset\n",
    "import tqdm as notebook_tqdm\n",
    "import numpy as np\n",
    "import pandas as pd\n",
    "import matplotlib.pyplot as plt\n",
    "import seaborn as sns\n",
    "\n",
    "# NLP & Text Processing\n",
    "import re\n",
    "import string\n",
    "import nltk\n",
    "from nltk.corpus import stopwords\n",
    "from sklearn.feature_extraction.text import TfidfVectorizer, CountVectorizer\n",
    "\n",
    "# Machine Learning Models (Sklearn)\n",
    "from sklearn.model_selection import train_test_split\n",
    "from sklearn.pipeline import Pipeline\n",
    "from sklearn.ensemble import RandomForestClassifier\n",
    "from sklearn.svm import SVC\n",
    "from sklearn.linear_model import LogisticRegression\n",
    "from sklearn.naive_bayes import MultinomialNB\n",
    "from sklearn.metrics import accuracy_score, classification_report, confusion_matrix\n",
    "\n",
    "# Deep Learning (TensorFlow & PyTorch)\n",
    "import torch\n",
    "import torch.nn as nn\n",
    "import torch.optim as optim\n",
    "import tensorflow as tf\n",
    "from tensorflow import keras\n",
    "tf.keras.models\n",
    "tf.keras.layers\n",
    "# from keras.models import Sequential\n",
    "# from keras.layers import Dense, LSTM, Embedding, Bidirectional\n",
    "\n",
    "# BERT (Hugging Face Transformers)\n",
    "from transformers import BertTokenizer, BertForSequenceClassification\n",
    "from transformers import Trainer, TrainingArguments"
   ]
  },
  {
   "cell_type": "markdown",
   "metadata": {},
   "source": [
    "# Load dataset"
   ]
  },
  {
   "cell_type": "code",
   "execution_count": 9,
   "metadata": {},
   "outputs": [
    {
     "name": "stdout",
     "output_type": "stream",
     "text": [
      "DatasetDict({\n",
      "    train: Dataset({\n",
      "        features: ['tweet', 'sentiment', 'url'],\n",
      "        num_rows: 38091\n",
      "    })\n",
      "})\n"
     ]
    }
   ],
   "source": [
    "# Load the dataset\n",
    "ds = load_dataset(\"TimKoornstra/financial-tweets-sentiment\")\n",
    "\n",
    "# Print dataset structure\n",
    "print(ds)\n"
   ]
  },
  {
   "cell_type": "code",
   "execution_count": 10,
   "metadata": {},
   "outputs": [
    {
     "name": "stdout",
     "output_type": "stream",
     "text": [
      "Saved: financial_tweets_sentiment_train.csv\n"
     ]
    }
   ],
   "source": [
    "for split in ds.keys():\n",
    "    df = pd.DataFrame(ds[split])\n",
    "    df.to_csv(f\"financial_tweets_sentiment_{split}.csv\", index=False)\n",
    "    print(f\"Saved: financial_tweets_sentiment_{split}.csv\")"
   ]
  },
  {
   "cell_type": "markdown",
   "metadata": {},
   "source": [
    "## Explore the Dataset"
   ]
  },
  {
   "cell_type": "code",
   "execution_count": null,
   "metadata": {},
   "outputs": [
    {
     "name": "stdout",
     "output_type": "stream",
     "text": [
      "dict_keys(['train'])\n",
      "{'tweet': '$BYND - JPMorgan reels in expectations on Beyond Meat https://t.co/bd0xbFGjkT', 'sentiment': 2, 'url': 'https://huggingface.co/datasets/zeroshot/twitter-financial-news-sentiment'}\n"
     ]
    }
   ],
   "source": [
    "for split in ds.keys():\n",
    "    df = pd.DataFrame(ds[split])\n",
    "    df.to_csv(f\"financial_tweets_sentiment_{split}.csv\", index=False)\n",
    "    print(f\"Saved: financial_tweets_sentiment_{split}.csv\")"
   ]
  }
 ],
 "metadata": {
  "kernelspec": {
   "display_name": ".venv",
   "language": "python",
   "name": "python3"
  },
  "language_info": {
   "codemirror_mode": {
    "name": "ipython",
    "version": 3
   },
   "file_extension": ".py",
   "mimetype": "text/x-python",
   "name": "python",
   "nbconvert_exporter": "python",
   "pygments_lexer": "ipython3",
   "version": "3.9.11"
  }
 },
 "nbformat": 4,
 "nbformat_minor": 2
}
